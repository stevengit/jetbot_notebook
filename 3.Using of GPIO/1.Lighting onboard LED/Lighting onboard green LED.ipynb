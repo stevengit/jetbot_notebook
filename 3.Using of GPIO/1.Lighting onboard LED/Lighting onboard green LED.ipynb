{
 "cells": [
  {
   "cell_type": "markdown",
   "metadata": {},
   "source": [
    "<center><img src=\"../../Picture Data/logo.png\" alt=\"Header\" style=\"width: 800px;\"/></center>"
   ]
  },
  {
   "cell_type": "markdown",
   "metadata": {},
   "source": [
    "@Copyright (C): 2010-2019, Shenzhen Yahboom Tech  \n",
    "@Author: Malloy.Yuan  \n",
    "@Date: 2019-07-17 10:10:02  \n",
    "@LastEditors: Malloy.Yuan  \n",
    "@LastEditTime: 2019-09-17 17:54:19  "
   ]
  },
  {
   "cell_type": "markdown",
   "metadata": {},
   "source": [
    "### Cycle flashing onboard green LED\n",
    "Import GPIO objects from RPi.GPIO, initialize pin objects\n",
    "Set the GPIO port mode to BCM mode, set to output mode, and the initial level is high.\n",
    "Then every 0.25 enters the function to flip the GPIO port level to make the LED flash"
   ]
  },
  {
   "cell_type": "code",
   "execution_count": null,
   "metadata": {},
   "outputs": [],
   "source": [
    "import RPi.GPIO as GPIO\n",
    "import time\n",
    "\n",
    "# Define pins\n",
    "LED2GREEN_pin = 24  # BOARD pin 12, BCM pin 18\n",
    "\n",
    "def main():\n",
    "    # Pin Setup:\n",
    "    # Board pin-numbering scheme\n",
    "    GPIO.setmode(GPIO.BCM)\n",
    "    # Set pin to output mode, and set level is high\n",
    "    GPIO.setup(LED2GREEN_pin, GPIO.OUT, initial=GPIO.HIGH)\n",
    "\n",
    "    print(\"Starting demo now!\")\n",
    "    curr_value = GPIO.HIGH\n",
    "    try:\n",
    "        while True:\n",
    "             # Flip the output every 0.25 seconds\n",
    "            time.sleep(0.25)\n",
    "            print(\"Outputting {} to pin {}\".format(curr_value, LED2GREEN_pin))\n",
    "            GPIO.output(LED2GREEN_pin, curr_value)\n",
    "            curr_value ^= GPIO.HIGH\n",
    "    finally:\n",
    "        GPIO.cleanup()\n",
    "\n",
    "if __name__ == '__main__':\n",
    "    main()"
   ]
  }
 ],
 "metadata": {
  "kernelspec": {
   "display_name": "Python 3",
   "language": "python",
   "name": "python3"
  },
  "language_info": {
   "codemirror_mode": {
    "name": "ipython",
    "version": 3
   },
   "file_extension": ".py",
   "mimetype": "text/x-python",
   "name": "python",
   "nbconvert_exporter": "python",
   "pygments_lexer": "ipython3",
   "version": "3.7.1"
  }
 },
 "nbformat": 4,
 "nbformat_minor": 2
}
