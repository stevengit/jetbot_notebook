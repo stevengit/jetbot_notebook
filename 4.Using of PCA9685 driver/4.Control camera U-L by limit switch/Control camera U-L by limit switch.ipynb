{
 "cells": [
  {
   "cell_type": "markdown",
   "metadata": {},
   "source": [
    "<center><img src=\"../../Picture Data/logo.png\" alt=\"Header\" style=\"width: 800px;\"/></center>"
   ]
  },
  {
   "cell_type": "markdown",
   "metadata": {},
   "source": [
    "@Copyright (C): 2010-2019, Shenzhen Yahboom Tech  \n",
    "@Author: Malloy.Yuan  \n",
    "@Date: 2019-07-17 10:10:02  \n",
    "@LastEditors: Malloy.Yuan  \n",
    "@LastEditTime: 2019-09-17 17:54:19  "
   ]
  },
  {
   "cell_type": "markdown",
   "metadata": {},
   "source": [
    "### Creating a robot instance\n",
    "We use the Robot object to call our already packaged motor drive library to drive motor."
   ]
  },
  {
   "cell_type": "code",
   "execution_count": 1,
   "metadata": {},
   "outputs": [],
   "source": [
    "from jetbot import Robot\n",
    "import time\n",
    "robot = Robot()"
   ]
  },
  {
   "cell_type": "markdown",
   "metadata": {},
   "source": [
    "### GPIO port initialization configuration\n",
    "Import GPIO objects from RPi.GPIO, initialize pin objects\n",
    "Set the GPIO port mode of the limit switch to BCM mode and set it to input mode."
   ]
  },
  {
   "cell_type": "code",
   "execution_count": 2,
   "metadata": {},
   "outputs": [],
   "source": [
    "import RPi.GPIO as GPIO\n",
    "up_limit_pin = 17\n",
    "down_limit_pin = 18\n",
    "GPIO.setmode(GPIO.BCM)\n",
    "GPIO.setup(up_limit_pin, GPIO.IN)\n",
    "GPIO.setup(down_limit_pin, GPIO.IN)"
   ]
  },
  {
   "cell_type": "markdown",
   "metadata": {},
   "source": [
    "### Import python thread library, initialize PTZ lift variable\n",
    "Create a vertical_motors_action pan/tilt global variable and import the thread package to monitor the pan/tilt status"
   ]
  },
  {
   "cell_type": "code",
   "execution_count": 3,
   "metadata": {},
   "outputs": [],
   "source": [
    "import threading\n",
    "global vertical_motors_action\n",
    "vertical_motors_action = 0"
   ]
  },
  {
   "cell_type": "markdown",
   "metadata": {},
   "source": [
    "### PTZ lifting upper and lower limit detection method"
   ]
  },
  {
   "cell_type": "code",
   "execution_count": 4,
   "metadata": {},
   "outputs": [],
   "source": [
    "def limit_detect():\n",
    "    global vertical_motors_action\n",
    "    while 1:\n",
    "        if vertical_motors_action == 1:\n",
    "            if GPIO.input(up_limit_pin) == 0:\n",
    "                robot.vertical_motors_stop()\n",
    "                vertical_motors_action = 0\n",
    "                print('云台到顶')\n",
    "        elif vertical_motors_action == 2:\n",
    "            if GPIO.input(down_limit_pin) == 0:\n",
    "                robot.vertical_motors_stop()\n",
    "                vertical_motors_action = 0\n",
    "                print('云台到底')\n",
    "        time.sleep(0.5)"
   ]
  },
  {
   "cell_type": "markdown",
   "metadata": {},
   "source": [
    "### Create and open the thread that monitors the upper and lower limits of the PTZ"
   ]
  },
  {
   "cell_type": "code",
   "execution_count": 5,
   "metadata": {},
   "outputs": [],
   "source": [
    "thread1 = threading.Thread(target=limit_detect)\n",
    "# thread1.setDaemon(True)\n",
    "thread1.start()"
   ]
  },
  {
   "cell_type": "markdown",
   "metadata": {},
   "source": [
    "### Method of PTZ rise"
   ]
  },
  {
   "cell_type": "code",
   "execution_count": 6,
   "metadata": {},
   "outputs": [
    {
     "name": "stdout",
     "output_type": "stream",
     "text": [
      "cameraup\n"
     ]
    }
   ],
   "source": [
    "vertical_motors_action = 1\n",
    "if(GPIO.input(up_limit_pin)):\n",
    "    robot.up(1)\n",
    "    print('cameraup')\n",
    "else:\n",
    "    print('Top')\n",
    "    robot.vertical_motors_stop()\n",
    "    vertical_motors_action = 0"
   ]
  },
  {
   "cell_type": "markdown",
   "metadata": {},
   "source": [
    "### Method of PTZ decline"
   ]
  },
  {
   "cell_type": "code",
   "execution_count": 7,
   "metadata": {},
   "outputs": [
    {
     "name": "stdout",
     "output_type": "stream",
     "text": [
      "cameradown\n"
     ]
    }
   ],
   "source": [
    "vertical_motors_action = 2\n",
    "if(GPIO.input(down_limit_pin)):\n",
    "    robot.down(1)\n",
    "    print('cameradown')\n",
    "else:\n",
    "    print('Bottom')\n",
    "    robot.vertical_motors_stop()\n",
    "    vertical_motors_action = 0"
   ]
  },
  {
   "cell_type": "markdown",
   "metadata": {},
   "source": [
    "### Method of PTZ stop"
   ]
  },
  {
   "cell_type": "code",
   "execution_count": 8,
   "metadata": {},
   "outputs": [
    {
     "name": "stdout",
     "output_type": "stream",
     "text": [
      "camerastop\n"
     ]
    }
   ],
   "source": [
    "robot.vertical_motors_stop()\n",
    "vertical_motors_action = 0\n",
    "print('camerastop')"
   ]
  },
  {
   "cell_type": "code",
   "execution_count": null,
   "metadata": {},
   "outputs": [],
   "source": []
  }
 ],
 "metadata": {
  "kernelspec": {
   "display_name": "Python 3",
   "language": "python",
   "name": "python3"
  },
  "language_info": {
   "codemirror_mode": {
    "name": "ipython",
    "version": 3
   },
   "file_extension": ".py",
   "mimetype": "text/x-python",
   "name": "python",
   "nbconvert_exporter": "python",
   "pygments_lexer": "ipython3",
   "version": "3.6.9"
  }
 },
 "nbformat": 4,
 "nbformat_minor": 4
}
