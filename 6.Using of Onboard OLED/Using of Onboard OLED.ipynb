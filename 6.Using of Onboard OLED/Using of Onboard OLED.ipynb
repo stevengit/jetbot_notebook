{
 "cells": [
  {
   "cell_type": "markdown",
   "metadata": {},
   "source": [
    "<center><img src=\"../Picture Data/logo.png\" alt=\"Header\" style=\"width: 800px;\"/></center>"
   ]
  },
  {
   "cell_type": "markdown",
   "metadata": {},
   "source": [
    "@Copyright (C): 2010-2019, Shenzhen Yahboom Tech  \n",
    "@Author: Malloy.Yuan  \n",
    "@Date: 2019-07-17 10:10:02  \n",
    "@LastEditors: Malloy.Yuan  \n",
    "@LastEditTime: 2019-09-17 17:54:19  "
   ]
  },
  {
   "cell_type": "markdown",
   "metadata": {},
   "source": [
    "### Import related driver libraries"
   ]
  },
  {
   "cell_type": "code",
   "execution_count": 1,
   "metadata": {},
   "outputs": [],
   "source": [
    "import time\n",
    "import Adafruit_SSD1306\n",
    "from PIL import Image\n",
    "from PIL import ImageDraw\n",
    "from PIL import ImageFont\n",
    "from jetbot.utils.utils import get_ip_address\n",
    "import subprocess"
   ]
  },
  {
   "cell_type": "markdown",
   "metadata": {},
   "source": [
    "### Initialization of SSD1306"
   ]
  },
  {
   "cell_type": "code",
   "execution_count": 2,
   "metadata": {},
   "outputs": [],
   "source": [
    "# 128x32 Display and hardwareI2C:\n",
    "disp = Adafruit_SSD1306.SSD1306_128_32(rst=None, i2c_bus=0, gpio=1)#Set gpio to hack to 1 to avoid platform detection\n",
    "# Initialization of library.\n",
    "disp.begin()\n",
    "# Clear display\n",
    "disp.clear()\n",
    "disp.display()\n",
    "# Create a blank image for the drawing\n",
    "# Make sure to create an image with a mode of '1' or a 1-bit color\n",
    "width = disp.width\n",
    "height = disp.height\n",
    "image = Image.new('1', (width, height))\n",
    "# Get the drawing object to be drawn on the image\n",
    "draw = ImageDraw.Draw(image)\n",
    "# Draw a black filled box to clear the image\n",
    "draw.rectangle((0,0,width,height), outline=0, fill=0)\n",
    "# Draw some shapes\n",
    "# First,we need to define some constants to adjust the size of the shape\n",
    "padding = -2\n",
    "top = padding\n",
    "bottom = height-padding\n",
    "# Move from left to right to track the current x position of the drawing graph.\n",
    "x = 0\n",
    "# Load default font\n",
    "font = ImageFont.load_default()"
   ]
  },
  {
   "cell_type": "markdown",
   "metadata": {},
   "source": [
    "### Cycle refresh information display to OLED screen every second"
   ]
  },
  {
   "cell_type": "code",
   "execution_count": null,
   "metadata": {},
   "outputs": [],
   "source": [
    "while True:\n",
    "\n",
    "    #  Draw a black filled box to clear the image\n",
    "    draw.rectangle((0,0,width,height), outline=0, fill=0)\n",
    "\n",
    "    # From this link you can get the shell script for system monitoring: : \n",
    "    # https://unix.stackexchange.com/questions/119126/command-to-display-memory-usage-disk-usage-and-cpu-load\n",
    "    cmd = \"top -bn1 | grep load | awk '{printf \\\"CPU Load: %.2f\\\", $(NF-2)}'\"\n",
    "    CPU = subprocess.check_output(cmd, shell = True )\n",
    "    cmd = \"free -m | awk 'NR==2{printf \\\"Mem:%s/%sM %.2f%%\\\", $3,$2,$3*100/$2 }'\"\n",
    "    MemUsage = subprocess.check_output(cmd, shell = True )\n",
    "    cmd = \"df -h | awk '$NF==\\\"/\\\"{printf \\\"Disk:%d/%dGB %s\\\", $3,$2,$5}'\"\n",
    "    Disk = subprocess.check_output(cmd, shell = True )\n",
    "\n",
    "    draw.text((x, top),       \"eth0:\" + str(get_ip_address('eth0')),  font=font, fill=255)\n",
    "    draw.text((x, top+8),     \"wlan0:\" + str(get_ip_address('wlan0')), font=font, fill=255)\n",
    "    draw.text((x, top+16),    str(MemUsage.decode('utf-8')),  font=font, fill=255)\n",
    "    draw.text((x, top+25),    str(Disk.decode('utf-8')),  font=font, fill=255)\n",
    "\n",
    "    # Display image\n",
    "    disp.image(image)\n",
    "    disp.display()\n",
    "    time.sleep(1)"
   ]
  }
 ],
 "metadata": {
  "kernelspec": {
   "display_name": "Python 3",
   "language": "python",
   "name": "python3"
  },
  "language_info": {
   "codemirror_mode": {
    "name": "ipython",
    "version": 3
   },
   "file_extension": ".py",
   "mimetype": "text/x-python",
   "name": "python",
   "nbconvert_exporter": "python",
   "pygments_lexer": "ipython3",
   "version": "3.6.9"
  }
 },
 "nbformat": 4,
 "nbformat_minor": 4
}
