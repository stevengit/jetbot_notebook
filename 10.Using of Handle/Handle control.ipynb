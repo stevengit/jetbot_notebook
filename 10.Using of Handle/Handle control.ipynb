{
 "cells": [
  {
   "cell_type": "markdown",
   "metadata": {},
   "source": [
    "<center><img src=\"../Picture Data/logo.png\" alt=\"Header\" style=\"width: 800px;\"/></center>"
   ]
  },
  {
   "cell_type": "markdown",
   "metadata": {},
   "source": [
    "@Copyright (C): 2010-2019, Shenzhen Yahboom Tech  \n",
    "@Author: Malloy.Yuan  \n",
    "@Date: 2019-07-17 10:10:02  \n",
    "@LastEditors: Malloy.Yuan  \n",
    "@LastEditTime: 2019-09-17 17:54:19  "
   ]
  },
  {
   "cell_type": "markdown",
   "metadata": {},
   "source": [
    "# Handle Control Car\n",
    "In this example, we will remotely control Jetbot using a gamepad controller connected to the web browser machine."
   ]
  },
  {
   "cell_type": "markdown",
   "metadata": {},
   "source": [
    "### Create Handle controller\n",
    "First, we need to create an instance of the 'Controller' widget, which we will use to drive our Jetbot. The \"Controller\" widget accepts an \"index\" parameter that specifies the number of controllers.\n",
    "\n",
    "1. Open [http://html5gamepad.com](http://html5gamepad.com).  \n",
    "2. If you press the button of the handle you are using\n",
    "3. Record the corresponding index number that pops up when you press the button\n",
    "\n",
    "Next, we will use this index to create and display the controller."
   ]
  },
  {
   "cell_type": "code",
   "execution_count": 1,
   "metadata": {},
   "outputs": [
    {
     "data": {
      "application/vnd.jupyter.widget-view+json": {
       "model_id": "2ee1450b027d4644bc8391ad7377e63c",
       "version_major": 2,
       "version_minor": 0
      },
      "text/plain": [
       "Controller()"
      ]
     },
     "metadata": {},
     "output_type": "display_data"
    }
   ],
   "source": [
    "import ipywidgets.widgets as widgets\n",
    "controller = widgets.Controller(index=0)  #Replace with the index number of the controller you just tested\n",
    "display(controller)"
   ]
  },
  {
   "cell_type": "markdown",
   "metadata": {},
   "source": [
    "Import some module"
   ]
  },
  {
   "cell_type": "code",
   "execution_count": 2,
   "metadata": {},
   "outputs": [],
   "source": [
    "#Import function library path\n",
    "from servoserial import ServoSerial\n",
    "from jetbot import Robot\n",
    "import traitlets\n",
    "from jetbot import Camera\n",
    "from jetbot import bgr8_to_jpeg\n",
    "from jetbot import Heartbeat\n",
    "import threading\n",
    "import time\n",
    "# Thread function operation library\n",
    "import inspect\n",
    "import ctypes\n",
    "\n",
    "import traitlets\n",
    "from IPython.display import display\n",
    "from jetbot import Camera, bgr8_to_jpeg\n",
    "import os\n",
    "from uuid import uuid1"
   ]
  },
  {
   "cell_type": "markdown",
   "metadata": {},
   "source": [
    "Create and open a display camera initialization instance"
   ]
  },
  {
   "cell_type": "code",
   "execution_count": 3,
   "metadata": {},
   "outputs": [
    {
     "data": {
      "application/vnd.jupyter.widget-view+json": {
       "model_id": "7b5622711218451bb4d2556db9b8eda1",
       "version_major": 2,
       "version_minor": 0
      },
      "text/plain": [
       "Image(value=b'\\xff\\xd8\\xff\\xe0\\x00\\x10JFIF\\x00\\x01\\x01\\x00\\x00\\x01\\x00\\x01\\x00\\x00\\xff\\xdb\\x00C\\x00\\x02\\x01\\x0…"
      ]
     },
     "metadata": {},
     "output_type": "display_data"
    }
   ],
   "source": [
    "camera = Camera.instance(width=224, height=224)\n",
    "image = widgets.Image(format='jpeg', width=224, height=224)  # this width and height doesn't necessarily have to match the camera\n",
    "camera_link = traitlets.dlink((camera, 'value'), (image, 'value'), transform=bgr8_to_jpeg)\n",
    "display(image)"
   ]
  },
  {
   "cell_type": "markdown",
   "metadata": {},
   "source": [
    "Add heartbeat connection"
   ]
  },
  {
   "cell_type": "code",
   "execution_count": 4,
   "metadata": {},
   "outputs": [],
   "source": [
    "def handle_heartbeat_status(change):\n",
    "    if change['new'] == Heartbeat.Status.dead:\n",
    "        camera_link.unlink()\n",
    "        robot.stop()\n",
    "\n",
    "heartbeat = Heartbeat(period=0.5)\n",
    "# Append the callback function to the heartbeat state\n",
    "heartbeat.observe(handle_heartbeat_status, names='status')"
   ]
  },
  {
   "cell_type": "markdown",
   "metadata": {},
   "source": [
    "Create a method to actively stop the process"
   ]
  },
  {
   "cell_type": "code",
   "execution_count": 5,
   "metadata": {},
   "outputs": [],
   "source": [
    "def _async_raise(tid, exctype):\n",
    "    \"\"\"raises the exception, performs cleanup if needed\"\"\"\n",
    "    tid = ctypes.c_long(tid)\n",
    "    if not inspect.isclass(exctype):\n",
    "        exctype = type(exctype)\n",
    "    res = ctypes.pythonapi.PyThreadState_SetAsyncExc(tid, ctypes.py_object(exctype))\n",
    "    if res == 0:\n",
    "        raise ValueError(\"invalid thread id\")\n",
    "    elif res != 1:\n",
    "        # \"\"\"if it returns a number greater than one, you're in trouble,\n",
    "        # and you should call it again with exc=NULL to revert the effect\"\"\"\n",
    "        ctypes.pythonapi.PyThreadState_SetAsyncExc(tid, None)\n",
    "        \n",
    "def stop_thread(thread):\n",
    "    _async_raise(thread.ident, SystemExit)"
   ]
  },
  {
   "cell_type": "markdown",
   "metadata": {},
   "source": [
    "Method for creating up, down, left, and right movements of a PTZ camera separately"
   ]
  },
  {
   "cell_type": "code",
   "execution_count": 6,
   "metadata": {},
   "outputs": [
    {
     "ename": "SerialException",
     "evalue": "[Errno 13] could not open port /dev/ttyTHS1: [Errno 13] Permission denied: '/dev/ttyTHS1'",
     "output_type": "error",
     "traceback": [
      "\u001b[0;31m---------------------------------------------------------------------------\u001b[0m",
      "\u001b[0;31mPermissionError\u001b[0m                           Traceback (most recent call last)",
      "\u001b[0;32m/usr/local/lib/python3.6/dist-packages/pyserial-3.4-py3.6.egg/serial/serialposix.py\u001b[0m in \u001b[0;36mopen\u001b[0;34m(self)\u001b[0m\n\u001b[1;32m    287\u001b[0m         \u001b[0;32mtry\u001b[0m\u001b[0;34m:\u001b[0m\u001b[0;34m\u001b[0m\u001b[0;34m\u001b[0m\u001b[0m\n\u001b[0;32m--> 288\u001b[0;31m             \u001b[0mself\u001b[0m\u001b[0;34m.\u001b[0m\u001b[0mfd\u001b[0m \u001b[0;34m=\u001b[0m \u001b[0mos\u001b[0m\u001b[0;34m.\u001b[0m\u001b[0mopen\u001b[0m\u001b[0;34m(\u001b[0m\u001b[0mself\u001b[0m\u001b[0;34m.\u001b[0m\u001b[0mportstr\u001b[0m\u001b[0;34m,\u001b[0m \u001b[0mos\u001b[0m\u001b[0;34m.\u001b[0m\u001b[0mO_RDWR\u001b[0m \u001b[0;34m|\u001b[0m \u001b[0mos\u001b[0m\u001b[0;34m.\u001b[0m\u001b[0mO_NOCTTY\u001b[0m \u001b[0;34m|\u001b[0m \u001b[0mos\u001b[0m\u001b[0;34m.\u001b[0m\u001b[0mO_NONBLOCK\u001b[0m\u001b[0;34m)\u001b[0m\u001b[0;34m\u001b[0m\u001b[0;34m\u001b[0m\u001b[0m\n\u001b[0m\u001b[1;32m    289\u001b[0m         \u001b[0;32mexcept\u001b[0m \u001b[0mOSError\u001b[0m \u001b[0;32mas\u001b[0m \u001b[0mmsg\u001b[0m\u001b[0;34m:\u001b[0m\u001b[0;34m\u001b[0m\u001b[0;34m\u001b[0m\u001b[0m\n",
      "\u001b[0;31mPermissionError\u001b[0m: [Errno 13] Permission denied: '/dev/ttyTHS1'",
      "\nDuring handling of the above exception, another exception occurred:\n",
      "\u001b[0;31mSerialException\u001b[0m                           Traceback (most recent call last)",
      "\u001b[0;32m<ipython-input-6-aa4c9fce5c91>\u001b[0m in \u001b[0;36m<module>\u001b[0;34m\u001b[0m\n\u001b[1;32m      1\u001b[0m \u001b[0;34m'''Servo Part'''\u001b[0m\u001b[0;34m\u001b[0m\u001b[0;34m\u001b[0m\u001b[0m\n\u001b[0;32m----> 2\u001b[0;31m \u001b[0mservo_device\u001b[0m \u001b[0;34m=\u001b[0m \u001b[0mServoSerial\u001b[0m\u001b[0;34m(\u001b[0m\u001b[0;34m)\u001b[0m\u001b[0;34m\u001b[0m\u001b[0;34m\u001b[0m\u001b[0m\n\u001b[0m\u001b[1;32m      3\u001b[0m \u001b[0;32mdef\u001b[0m \u001b[0mcamUpFunction\u001b[0m\u001b[0;34m(\u001b[0m\u001b[0;34m)\u001b[0m\u001b[0;34m:\u001b[0m\u001b[0;34m\u001b[0m\u001b[0;34m\u001b[0m\u001b[0m\n\u001b[1;32m      4\u001b[0m     \u001b[0;32mglobal\u001b[0m \u001b[0mupdownpulse\u001b[0m\u001b[0;34m\u001b[0m\u001b[0;34m\u001b[0m\u001b[0m\n\u001b[1;32m      5\u001b[0m     \u001b[0mupdownpulse\u001b[0m\u001b[0;34m+=\u001b[0m\u001b[0;36m15\u001b[0m\u001b[0;34m\u001b[0m\u001b[0;34m\u001b[0m\u001b[0m\n",
      "\u001b[0;32m~/Notebook/10.Using of Handle/servoserial.py\u001b[0m in \u001b[0;36m__init__\u001b[0;34m(self)\u001b[0m\n\u001b[1;32m     17\u001b[0m \u001b[0;32mclass\u001b[0m \u001b[0mServoSerial\u001b[0m\u001b[0;34m:\u001b[0m\u001b[0;34m\u001b[0m\u001b[0;34m\u001b[0m\u001b[0m\n\u001b[1;32m     18\u001b[0m     \u001b[0;32mdef\u001b[0m \u001b[0m__init__\u001b[0m\u001b[0;34m(\u001b[0m\u001b[0mself\u001b[0m\u001b[0;34m)\u001b[0m\u001b[0;34m:\u001b[0m\u001b[0;34m\u001b[0m\u001b[0;34m\u001b[0m\u001b[0m\n\u001b[0;32m---> 19\u001b[0;31m         \u001b[0mself\u001b[0m\u001b[0;34m.\u001b[0m\u001b[0mser\u001b[0m \u001b[0;34m=\u001b[0m \u001b[0mserial\u001b[0m\u001b[0;34m.\u001b[0m\u001b[0mSerial\u001b[0m\u001b[0;34m(\u001b[0m\u001b[0;34m\"/dev/ttyTHS1\"\u001b[0m\u001b[0;34m,\u001b[0m \u001b[0;36m115200\u001b[0m\u001b[0;34m,\u001b[0m \u001b[0mtimeout\u001b[0m \u001b[0;34m=\u001b[0m \u001b[0;36m0.001\u001b[0m\u001b[0;34m)\u001b[0m\u001b[0;34m\u001b[0m\u001b[0;34m\u001b[0m\u001b[0m\n\u001b[0m\u001b[1;32m     20\u001b[0m         \u001b[0mprint\u001b[0m \u001b[0;34m(\u001b[0m\u001b[0;34m\"serial Open!\"\u001b[0m\u001b[0;34m)\u001b[0m\u001b[0;34m\u001b[0m\u001b[0;34m\u001b[0m\u001b[0m\n\u001b[1;32m     21\u001b[0m \u001b[0;34m\u001b[0m\u001b[0m\n",
      "\u001b[0;32m/usr/local/lib/python3.6/dist-packages/pyserial-3.4-py3.6.egg/serial/serialutil.py\u001b[0m in \u001b[0;36m__init__\u001b[0;34m(self, port, baudrate, bytesize, parity, stopbits, timeout, xonxoff, rtscts, write_timeout, dsrdtr, inter_byte_timeout, exclusive, **kwargs)\u001b[0m\n\u001b[1;32m    240\u001b[0m \u001b[0;34m\u001b[0m\u001b[0m\n\u001b[1;32m    241\u001b[0m         \u001b[0;32mif\u001b[0m \u001b[0mport\u001b[0m \u001b[0;32mis\u001b[0m \u001b[0;32mnot\u001b[0m \u001b[0;32mNone\u001b[0m\u001b[0;34m:\u001b[0m\u001b[0;34m\u001b[0m\u001b[0;34m\u001b[0m\u001b[0m\n\u001b[0;32m--> 242\u001b[0;31m             \u001b[0mself\u001b[0m\u001b[0;34m.\u001b[0m\u001b[0mopen\u001b[0m\u001b[0;34m(\u001b[0m\u001b[0;34m)\u001b[0m\u001b[0;34m\u001b[0m\u001b[0;34m\u001b[0m\u001b[0m\n\u001b[0m\u001b[1;32m    243\u001b[0m \u001b[0;34m\u001b[0m\u001b[0m\n\u001b[1;32m    244\u001b[0m     \u001b[0;31m#  -  -  -  -  -  -  -  -  -  -  -  -  -  -  -  -  -  -  -  -  -  -  -  -\u001b[0m\u001b[0;34m\u001b[0m\u001b[0;34m\u001b[0m\u001b[0;34m\u001b[0m\u001b[0m\n",
      "\u001b[0;32m/usr/local/lib/python3.6/dist-packages/pyserial-3.4-py3.6.egg/serial/serialposix.py\u001b[0m in \u001b[0;36mopen\u001b[0;34m(self)\u001b[0m\n\u001b[1;32m    289\u001b[0m         \u001b[0;32mexcept\u001b[0m \u001b[0mOSError\u001b[0m \u001b[0;32mas\u001b[0m \u001b[0mmsg\u001b[0m\u001b[0;34m:\u001b[0m\u001b[0;34m\u001b[0m\u001b[0;34m\u001b[0m\u001b[0m\n\u001b[1;32m    290\u001b[0m             \u001b[0mself\u001b[0m\u001b[0;34m.\u001b[0m\u001b[0mfd\u001b[0m \u001b[0;34m=\u001b[0m \u001b[0;32mNone\u001b[0m\u001b[0;34m\u001b[0m\u001b[0;34m\u001b[0m\u001b[0m\n\u001b[0;32m--> 291\u001b[0;31m             \u001b[0;32mraise\u001b[0m \u001b[0mSerialException\u001b[0m\u001b[0;34m(\u001b[0m\u001b[0mmsg\u001b[0m\u001b[0;34m.\u001b[0m\u001b[0merrno\u001b[0m\u001b[0;34m,\u001b[0m \u001b[0;34m\"could not open port {}: {}\"\u001b[0m\u001b[0;34m.\u001b[0m\u001b[0mformat\u001b[0m\u001b[0;34m(\u001b[0m\u001b[0mself\u001b[0m\u001b[0;34m.\u001b[0m\u001b[0m_port\u001b[0m\u001b[0;34m,\u001b[0m \u001b[0mmsg\u001b[0m\u001b[0;34m)\u001b[0m\u001b[0;34m)\u001b[0m\u001b[0;34m\u001b[0m\u001b[0;34m\u001b[0m\u001b[0m\n\u001b[0m\u001b[1;32m    292\u001b[0m         \u001b[0;31m#~ fcntl.fcntl(self.fd, fcntl.F_SETFL, 0)  # set blocking\u001b[0m\u001b[0;34m\u001b[0m\u001b[0;34m\u001b[0m\u001b[0;34m\u001b[0m\u001b[0m\n\u001b[1;32m    293\u001b[0m \u001b[0;34m\u001b[0m\u001b[0m\n",
      "\u001b[0;31mSerialException\u001b[0m: [Errno 13] could not open port /dev/ttyTHS1: [Errno 13] Permission denied: '/dev/ttyTHS1'"
     ]
    }
   ],
   "source": [
    "'''Servo Part'''\n",
    "servo_device = ServoSerial() \n",
    "def camUpFunction():\n",
    "    global updownpulse\n",
    "    updownpulse+=15\n",
    "    if updownpulse>4095:\n",
    "        updownpulse=4095\n",
    "    servo_device.Servo_serial_control(2, updownpulse)\n",
    "\n",
    "def camDownFunction():\n",
    "    global updownpulse\n",
    "    updownpulse-=15\n",
    "    if updownpulse<1300:\n",
    "        updownpulse=1300\n",
    "    servo_device.Servo_serial_control(2, updownpulse)\n",
    "\n",
    "def camLeftFunction():\n",
    "    global leftrightpulse\n",
    "    leftrightpulse+=15\n",
    "    if leftrightpulse>3600:\n",
    "        leftrightpulse=3600\n",
    "    servo_device.Servo_serial_control(1, leftrightpulse)\n",
    "\n",
    "def camRightFunction():\n",
    "    global leftrightpulse\n",
    "    leftrightpulse-=15\n",
    "    if leftrightpulse<600:\n",
    "        leftrightpulse=600\n",
    "    servo_device.Servo_serial_control(1, leftrightpulse)\n",
    "\n",
    "def camservoInitFunction():\n",
    "    global leftrightpulse, updownpulse\n",
    "    leftrightpulse = 2048\n",
    "    updownpulse = 2048\n",
    "    servo_device.Servo_serial_control(1, 2048)\n",
    "    time.sleep(0.1)\n",
    "    servo_device.Servo_serial_control(2, 2048)"
   ]
  },
  {
   "cell_type": "markdown",
   "metadata": {},
   "source": [
    "### Initialize the position of the PTZ camera\n",
    "Run the following cell code to initialize the PTZ project to the initial location"
   ]
  },
  {
   "cell_type": "code",
   "execution_count": null,
   "metadata": {},
   "outputs": [],
   "source": [
    "camservoInitFunction()"
   ]
  },
  {
   "cell_type": "markdown",
   "metadata": {},
   "source": [
    "### Load the Robot class\n",
    "This class allows us to easily control the JetBot motor"
   ]
  },
  {
   "cell_type": "code",
   "execution_count": null,
   "metadata": {},
   "outputs": [],
   "source": [
    "robot = Robot()"
   ]
  },
  {
   "cell_type": "markdown",
   "metadata": {},
   "source": [
    "### Create onboard breathing light method"
   ]
  },
  {
   "cell_type": "code",
   "execution_count": null,
   "metadata": {},
   "outputs": [],
   "source": [
    "def BLN_Onboard():\n",
    "    global i , k\n",
    "    i = k = 0\n",
    "    while True:\n",
    "        if k == 0:\n",
    "            robot.set_bln(i)\n",
    "            i += 0.01\n",
    "            if( i >= 1 ):\n",
    "                k = 1\n",
    "            time.sleep(0.005)\n",
    "        elif k == 1:\n",
    "            robot.set_bln(i)\n",
    "            i -=0.01\n",
    "            if i <= 0 :\n",
    "                k = 0\n",
    "            time.sleep(0.005)"
   ]
  },
  {
   "cell_type": "markdown",
   "metadata": {},
   "source": [
    "Turn on the onboard breathing light independent process by running the cell code below"
   ]
  },
  {
   "cell_type": "code",
   "execution_count": null,
   "metadata": {},
   "outputs": [],
   "source": [
    "thread1 = threading.Thread(target=BLN_Onboard)\n",
    "# thread1.setDaemon(True)\n",
    "thread1.start()"
   ]
  },
  {
   "cell_type": "markdown",
   "metadata": {},
   "source": [
    "<center><img src=\"../Picture Data/Handle.png\" alt=\"Header\" style=\"width: 400px;\"/></center>"
   ]
  },
  {
   "cell_type": "markdown",
   "metadata": {},
   "source": [
    "### Create a handle to control the movement of Jetbot in real time\n",
    "### Please use the ANOLOG button in the middle of the handle to switch to the simulation mode before using.\n",
    "\n",
    "Program features:\n",
    "          1. Left rocker control Jetbot movement, right rocker control the servo movement\n",
    "          2. Press the SELECT button to reset the PTZ angle\n",
    "          3. Press the L side button No.1 to control the PTZ rise, press the L side button No.2 to control the gimbal decline.\n",
    "\n",
    "In the default code, the Yahboom handle is used by default. For other handles, please refer to the key table to change the value.\n",
    "     \n",
    "     If you are using Yahboom accessory, please use the code section ---1\n",
    "     If you are using the Xbox360's handle, please use the code section ---2"
   ]
  },
  {
   "cell_type": "code",
   "execution_count": null,
   "metadata": {},
   "outputs": [],
   "source": [
    "def jetbot_motion():\n",
    "    count1 = count2 = count3 = count4 =  count5 = 0\n",
    "    while 1:\n",
    "        #Robot car Left and right DC motor\n",
    "        #Handle control code---1(Jetbot Yahboom handle)\n",
    "        #Yahboom Rocker reset value is 0.0039,\n",
    "        #In order to prevent the motor from being abnormal, the following code is added to operate.\n",
    "        if controller.axes[1].value <= 0.1:\n",
    "            if (controller.axes[0].value <= 0.1 and controller.axes[0].value >= -0.1 \n",
    "                and controller.axes[1].value <= 0.1 and controller.axes[1].value >= -0.1):\n",
    "                robot.stop()\n",
    "            else:\n",
    "                robot.set_motors(-controller.axes[1].value + controller.axes[0].value, -controller.axes[1].value - controller.axes[0].value)\n",
    "            \n",
    "            time.sleep(0.01)\n",
    "        else:\n",
    "            robot.set_motors(-controller.axes[1].value - controller.axes[0].value, -controller.axes[1].value + controller.axes[0].value)\n",
    "            time.sleep(0.01)\n",
    "          #Handle control code---2(Xbox360手柄)\n",
    "#         if controller.axes[1].value <= 0:\n",
    "#             robot.set_motors(-controller.axes[1].value + controller.axes[0].value, -controller.axes[1].value - controller.axes[0].value)\n",
    "#             time.sleep(0.01)\n",
    "#         else:\n",
    "#             robot.set_motors(-controller.axes[1].value - controller.axes[0].value, -controller.axes[1].value + controller.axes[0].value)\n",
    "#             time.sleep(0.01)\n",
    "\n",
    "        #Servo control camera up and down \n",
    "        if controller.axes[2].value == 1:\n",
    "            count1  += 1\n",
    "            if count1 >= 3:\n",
    "                camDownFunction()\n",
    "                count1 = 0\n",
    "        elif controller.axes[2].value == -1:\n",
    "            count1  += 1\n",
    "            if count1 >= 3:\n",
    "                camUpFunction()\n",
    "                count1 = 0\n",
    "        else:\n",
    "            count1 = 0\n",
    "        #Servo control camera left and right\n",
    "        if controller.axes[5].value == 1:\n",
    "            count2  += 1\n",
    "            if count2 >= 3:\n",
    "                camRightFunction()\n",
    "                count2 = 0\n",
    "        elif controller.axes[5].value == -1:\n",
    "            count2  += 1\n",
    "            if count2 >= 3:\n",
    "                camLeftFunction()\n",
    "                count2 = 0\n",
    "        else:\n",
    "            count2 = 0\n",
    "        #Servo control camera up down, left and right is reset\n",
    "        if controller.buttons[8].value == True:\n",
    "            count3 += 1\n",
    "            if count3 >= 3:\n",
    "                camservoInitFunction()\n",
    "                count3 = 0\n",
    "        else:\n",
    "            count3 = 0\n",
    "        \n",
    "        #Servo control servo rise and decline\n",
    "        if controller.buttons[6].value == True:\n",
    "            count4 += 1\n",
    "            if count4 >= 3:\n",
    "                robot.set_vertical_motors(1)\n",
    "                count4 = 0\n",
    "        elif controller.buttons[4].value == True:\n",
    "            count4 += 1\n",
    "            if count4 >= 3:\n",
    "                robot.set_vertical_motors(-1)\n",
    "                count4 = 0\n",
    "        else:\n",
    "            robot.set_vertical_motors(0)\n",
    "            count4 = 0"
   ]
  },
  {
   "cell_type": "markdown",
   "metadata": {},
   "source": [
    "Control the independent process of Jetbot motion in real time by running the cell code below to open the handle"
   ]
  },
  {
   "cell_type": "code",
   "execution_count": null,
   "metadata": {},
   "outputs": [],
   "source": [
    "thread2 = threading.Thread(target=jetbot_motion)\n",
    "thread2.setDaemon(True)\n",
    "thread2.start()"
   ]
  },
  {
   "cell_type": "markdown",
   "metadata": {},
   "source": [
    "Ending onboard breathing RGB process"
   ]
  },
  {
   "cell_type": "code",
   "execution_count": null,
   "metadata": {},
   "outputs": [],
   "source": [
    "stop_thread(thread1)"
   ]
  },
  {
   "cell_type": "markdown",
   "metadata": {},
   "source": [
    "Ending Jetbot movement process"
   ]
  },
  {
   "cell_type": "code",
   "execution_count": null,
   "metadata": {},
   "outputs": [],
   "source": [
    "stop_thread(thread2)\n",
    "robot.stop()"
   ]
  },
  {
   "cell_type": "code",
   "execution_count": null,
   "metadata": {},
   "outputs": [],
   "source": []
  }
 ],
 "metadata": {
  "kernelspec": {
   "display_name": "Python 3",
   "language": "python",
   "name": "python3"
  },
  "language_info": {
   "codemirror_mode": {
    "name": "ipython",
    "version": 3
   },
   "file_extension": ".py",
   "mimetype": "text/x-python",
   "name": "python",
   "nbconvert_exporter": "python",
   "pygments_lexer": "ipython3",
   "version": "3.6.9"
  }
 },
 "nbformat": 4,
 "nbformat_minor": 4
}
