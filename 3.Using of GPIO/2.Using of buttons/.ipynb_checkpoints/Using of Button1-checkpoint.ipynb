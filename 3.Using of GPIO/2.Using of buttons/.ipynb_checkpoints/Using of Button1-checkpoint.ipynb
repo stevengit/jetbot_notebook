{
 "cells": [
  {
   "cell_type": "markdown",
   "metadata": {},
   "source": [
    "<center><img src=\"../../Picture Data/logo.png\" alt=\"Header\" style=\"width: 800px;\"/></center>"
   ]
  },
  {
   "cell_type": "markdown",
   "metadata": {},
   "source": [
    "@Copyright (C): 2010-2019, Shenzhen Yahboom Tech  \n",
    "@Author: Malloy.Yuan  \n",
    "@Date: 2019-07-17 10:10:02  \n",
    "@LastEditors: Malloy.Yuan  \n",
    "@LastEditTime: 2019-09-17 17:54:19  "
   ]
  },
  {
   "cell_type": "markdown",
   "metadata": {},
   "source": [
    "### Button event detection\n",
    "Import GPIO objects from RPi.GPIO, initialize pin objects\n",
    "Set the button GPIO port mode to BCM mode and set to input mode.\n",
    "When the state of button 1 changes, the green LED will follow the state change and print the current button GPIO port status."
   ]
  },
  {
   "cell_type": "code",
   "execution_count": null,
   "metadata": {},
   "outputs": [],
   "source": [
    "import RPi.GPIO as GPIO\n",
    "import time\n",
    "\n",
    "# Pin Definitons:\n",
    "led_pin = 24  # BOARD pin 24 GREEN\n",
    "but_pin = 8  # BOARD pin 8   key1\n",
    "\n",
    "def main():\n",
    "    prev_value = None\n",
    "\n",
    "    # Pin Setup:\n",
    "    GPIO.setmode(GPIO.BCM)  # BCM\n",
    "    GPIO.setup(led_pin, GPIO.OUT)  # LED pin set as output\n",
    "    GPIO.setup(but_pin, GPIO.IN)  # Button pin set as input\n",
    "\n",
    "    # Initial state for LEDs:\n",
    "    GPIO.output(led_pin, GPIO.LOW)\n",
    "    print(\"Starting demo now!\")\n",
    "    try:\n",
    "        while True:\n",
    "            curr_value = GPIO.input(but_pin)\n",
    "            if curr_value != prev_value:\n",
    "                GPIO.output(led_pin, not curr_value)\n",
    "                prev_value = curr_value\n",
    "                print(\"Outputting {} to Pin {}\".format(curr_value, led_pin))\n",
    "#             time.sleep(0.5)\n",
    "    finally:\n",
    "        GPIO.cleanup()  # cleanup all GPIO\n",
    "\n",
    "if __name__ == '__main__':\n",
    "    main()\n"
   ]
  }
 ],
 "metadata": {
  "kernelspec": {
   "display_name": "Python 3",
   "language": "python",
   "name": "python3"
  },
  "language_info": {
   "codemirror_mode": {
    "name": "ipython",
    "version": 3
   },
   "file_extension": ".py",
   "mimetype": "text/x-python",
   "name": "python",
   "nbconvert_exporter": "python",
   "pygments_lexer": "ipython3",
   "version": "3.7.1"
  }
 },
 "nbformat": 4,
 "nbformat_minor": 2
}
